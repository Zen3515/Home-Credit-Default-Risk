{
  "nbformat": 4,
  "nbformat_minor": 0,
  "metadata": {
    "colab": {
      "name": "Pattern2.ipynb",
      "version": "0.3.2",
      "provenance": [],
      "collapsed_sections": []
    },
    "kernelspec": {
      "name": "python3",
      "display_name": "Python 3"
    }
  },
  "cells": [
    {
      "metadata": {
        "id": "OIdVuURFbjs-",
        "colab_type": "code",
        "colab": {
          "base_uri": "https://localhost:8080/",
          "height": 122
        },
        "outputId": "acd60c84-676b-4399-fbb1-434fd5bf32c2"
      },
      "cell_type": "code",
      "source": [
        "from google.colab import drive\n",
        "drive.mount('/content/drive')"
      ],
      "execution_count": 1,
      "outputs": [
        {
          "output_type": "stream",
          "text": [
            "Go to this URL in a browser: https://accounts.google.com/o/oauth2/auth?client_id=947318989803-6bn6qk8qdgf4n4g3pfee6491hc0brc4i.apps.googleusercontent.com&redirect_uri=urn%3Aietf%3Awg%3Aoauth%3A2.0%3Aoob&scope=email%20https%3A%2F%2Fwww.googleapis.com%2Fauth%2Fdocs.test%20https%3A%2F%2Fwww.googleapis.com%2Fauth%2Fdrive%20https%3A%2F%2Fwww.googleapis.com%2Fauth%2Fdrive.photos.readonly%20https%3A%2F%2Fwww.googleapis.com%2Fauth%2Fpeopleapi.readonly&response_type=code\n",
            "\n",
            "Enter your authorization code:\n",
            "··········\n",
            "Mounted at /content/drive\n"
          ],
          "name": "stdout"
        }
      ]
    },
    {
      "metadata": {
        "id": "zCPwzhLkbtkU",
        "colab_type": "code",
        "colab": {}
      },
      "cell_type": "code",
      "source": [
        "# สร้าง folder Pattern ใน drive ก่อน\n",
        "import os\n",
        "os.chdir(\"drive\")\n",
        "os.chdir(\"My Drive\")\n",
        "os.chdir(\"Pattern\")"
      ],
      "execution_count": 0,
      "outputs": []
    },
    {
      "metadata": {
        "id": "A_sV8ig7cO9o",
        "colab_type": "code",
        "colab": {
          "base_uri": "https://localhost:8080/",
          "height": 221
        },
        "outputId": "80c61b07-c97e-43a8-9761-84542f29c501"
      },
      "cell_type": "code",
      "source": [
        "# ใช้ครั้งเดียว !!!!!!!!!!!!!!!\n",
        "#ก่อนใช้เอา file all.zip แปะใน folder Pattern ก่อน\n",
        "!unzip all.zip\n",
        "!mkdir input\n",
        "!mv installments_payments.csv credit_card_balance.csv bureau.csv POS_CASH_balance.csv sample_submission.csv application_train.csv HomeCredit_columns_description.csv previous_application.csv bureau_balance.csv application_test.csv ./input"
      ],
      "execution_count": 22,
      "outputs": [
        {
          "output_type": "stream",
          "text": [
            "Archive:  all.zip\n",
            "  inflating: installments_payments.csv  \n",
            "  inflating: credit_card_balance.csv  \n",
            "  inflating: bureau.csv              \n",
            "  inflating: POS_CASH_balance.csv    \n",
            "  inflating: sample_submission.csv   \n",
            "  inflating: application_train.csv   \n",
            "  inflating: HomeCredit_columns_description.csv  \n",
            "  inflating: previous_application.csv  \n",
            "  inflating: bureau_balance.csv      \n",
            "  inflating: application_test.csv    \n",
            "mkdir: cannot create directory ‘input’: File exists\n"
          ],
          "name": "stdout"
        }
      ]
    },
    {
      "metadata": {
        "id": "z9bXLMjVcWCB",
        "colab_type": "code",
        "colab": {
          "base_uri": "https://localhost:8080/",
          "height": 156
        },
        "outputId": "06fad470-2473-4cf0-9406-fd962c1f2ebf"
      },
      "cell_type": "code",
      "source": [
        "import pandas as pd\n",
        "input_dir = os.path.join(os.getcwd(), 'input')\n",
        "print('Input files:\\n{}'.format(os.listdir(input_dir)))\n",
        "print('Loading data sets...')\n",
        "\n",
        "sample_size = None\n",
        "app_train_df = pd.read_csv(os.path.join(input_dir, 'application_train.csv'), nrows=sample_size)\n",
        "app_test_df = pd.read_csv(os.path.join(input_dir, 'application_test.csv'), nrows=sample_size)\n",
        "bureau_df = pd.read_csv(os.path.join(input_dir, 'bureau.csv'), nrows=sample_size)\n",
        "bureau_balance_df = pd.read_csv(os.path.join(input_dir, 'bureau_balance.csv'), nrows=sample_size)\n",
        "credit_card_df = pd.read_csv(os.path.join(input_dir, 'credit_card_balance.csv'), nrows=sample_size)\n",
        "pos_cash_df = pd.read_csv(os.path.join(input_dir, 'POS_CASH_balance.csv'), nrows=sample_size)\n",
        "prev_app_df = pd.read_csv(os.path.join(input_dir, 'previous_application.csv'), nrows=sample_size)\n",
        "install_df = pd.read_csv(os.path.join(input_dir, 'installments_payments.csv'), nrows=sample_size)\n",
        "\n",
        "df = pd.read_csv(os.path.join(input_dir, 'application_train.csv'), nrows=sample_size)\n",
        "df_test = pd.read_csv(os.path.join(input_dir, 'application_test.csv'), nrows=sample_size)\n",
        "\n",
        "print('Data loaded.\\nMain application training data set shape = {}'.format(app_train_df.shape))\n",
        "print('Main application test data set shape = {}'.format(app_test_df.shape))\n",
        "print('Positive target proportion = {:.2f}'.format(app_train_df['TARGET'].mean()))"
      ],
      "execution_count": 3,
      "outputs": [
        {
          "output_type": "stream",
          "text": [
            "Input files:\n",
            "['HomeCredit_columns_description.csv', 'credit_card_balance.csv', 'POS_CASH_balance.csv', 'bureau.csv', 'sample_submission.csv', 'installments_payments.csv', 'previous_application.csv', 'application_train.csv', 'application_test.csv', 'bureau_balance.csv']\n",
            "Loading data sets...\n",
            "Data loaded.\n",
            "Main application training data set shape = (307511, 122)\n",
            "Main application test data set shape = (48744, 121)\n",
            "Positive target proportion = 0.08\n"
          ],
          "name": "stdout"
        }
      ]
    },
    {
      "metadata": {
        "id": "HmeIv3C9cemd",
        "colab_type": "code",
        "colab": {}
      },
      "cell_type": "code",
      "source": [
        "import numpy as np # linear algebra\n",
        "import pandas as pd # data processing, CSV file I/O (e.g. pd.read_csv)\n",
        "import matplotlib as mplt\n",
        "import matplotlib.pyplot as plt\n",
        "from sklearn.model_selection import train_test_split\n",
        "%matplotlib inline\n",
        "import seaborn as sns\n",
        "\n",
        "from xgboost import XGBClassifier\n",
        "from sklearn.metrics import accuracy_score\n",
        "from sklearn.metrics import confusion_matrix,classification_report\n",
        "\n",
        "np.set_printoptions(threshold=np.nan)\n",
        "arr = np.array([1,2,3,4,5,6,7,8,9,10])"
      ],
      "execution_count": 0,
      "outputs": []
    },
    {
      "metadata": {
        "id": "vHfPHWnJdTV8",
        "colab_type": "code",
        "colab": {}
      },
      "cell_type": "code",
      "source": [
        ""
      ],
      "execution_count": 0,
      "outputs": []
    },
    {
      "metadata": {
        "id": "tnVo-3mddTYk",
        "colab_type": "code",
        "colab": {
          "base_uri": "https://localhost:8080/",
          "height": 253
        },
        "outputId": "19d9e13d-dedd-4246-969f-4cc54dce9ed2"
      },
      "cell_type": "code",
      "source": [
        "df.head()"
      ],
      "execution_count": 5,
      "outputs": [
        {
          "output_type": "execute_result",
          "data": {
            "text/html": [
              "<div>\n",
              "<style scoped>\n",
              "    .dataframe tbody tr th:only-of-type {\n",
              "        vertical-align: middle;\n",
              "    }\n",
              "\n",
              "    .dataframe tbody tr th {\n",
              "        vertical-align: top;\n",
              "    }\n",
              "\n",
              "    .dataframe thead th {\n",
              "        text-align: right;\n",
              "    }\n",
              "</style>\n",
              "<table border=\"1\" class=\"dataframe\">\n",
              "  <thead>\n",
              "    <tr style=\"text-align: right;\">\n",
              "      <th></th>\n",
              "      <th>SK_ID_CURR</th>\n",
              "      <th>TARGET</th>\n",
              "      <th>NAME_CONTRACT_TYPE</th>\n",
              "      <th>CODE_GENDER</th>\n",
              "      <th>FLAG_OWN_CAR</th>\n",
              "      <th>FLAG_OWN_REALTY</th>\n",
              "      <th>CNT_CHILDREN</th>\n",
              "      <th>AMT_INCOME_TOTAL</th>\n",
              "      <th>AMT_CREDIT</th>\n",
              "      <th>AMT_ANNUITY</th>\n",
              "      <th>...</th>\n",
              "      <th>FLAG_DOCUMENT_18</th>\n",
              "      <th>FLAG_DOCUMENT_19</th>\n",
              "      <th>FLAG_DOCUMENT_20</th>\n",
              "      <th>FLAG_DOCUMENT_21</th>\n",
              "      <th>AMT_REQ_CREDIT_BUREAU_HOUR</th>\n",
              "      <th>AMT_REQ_CREDIT_BUREAU_DAY</th>\n",
              "      <th>AMT_REQ_CREDIT_BUREAU_WEEK</th>\n",
              "      <th>AMT_REQ_CREDIT_BUREAU_MON</th>\n",
              "      <th>AMT_REQ_CREDIT_BUREAU_QRT</th>\n",
              "      <th>AMT_REQ_CREDIT_BUREAU_YEAR</th>\n",
              "    </tr>\n",
              "  </thead>\n",
              "  <tbody>\n",
              "    <tr>\n",
              "      <th>0</th>\n",
              "      <td>100002</td>\n",
              "      <td>1</td>\n",
              "      <td>Cash loans</td>\n",
              "      <td>M</td>\n",
              "      <td>N</td>\n",
              "      <td>Y</td>\n",
              "      <td>0</td>\n",
              "      <td>202500.0</td>\n",
              "      <td>406597.5</td>\n",
              "      <td>24700.5</td>\n",
              "      <td>...</td>\n",
              "      <td>0</td>\n",
              "      <td>0</td>\n",
              "      <td>0</td>\n",
              "      <td>0</td>\n",
              "      <td>0.0</td>\n",
              "      <td>0.0</td>\n",
              "      <td>0.0</td>\n",
              "      <td>0.0</td>\n",
              "      <td>0.0</td>\n",
              "      <td>1.0</td>\n",
              "    </tr>\n",
              "    <tr>\n",
              "      <th>1</th>\n",
              "      <td>100003</td>\n",
              "      <td>0</td>\n",
              "      <td>Cash loans</td>\n",
              "      <td>F</td>\n",
              "      <td>N</td>\n",
              "      <td>N</td>\n",
              "      <td>0</td>\n",
              "      <td>270000.0</td>\n",
              "      <td>1293502.5</td>\n",
              "      <td>35698.5</td>\n",
              "      <td>...</td>\n",
              "      <td>0</td>\n",
              "      <td>0</td>\n",
              "      <td>0</td>\n",
              "      <td>0</td>\n",
              "      <td>0.0</td>\n",
              "      <td>0.0</td>\n",
              "      <td>0.0</td>\n",
              "      <td>0.0</td>\n",
              "      <td>0.0</td>\n",
              "      <td>0.0</td>\n",
              "    </tr>\n",
              "    <tr>\n",
              "      <th>2</th>\n",
              "      <td>100004</td>\n",
              "      <td>0</td>\n",
              "      <td>Revolving loans</td>\n",
              "      <td>M</td>\n",
              "      <td>Y</td>\n",
              "      <td>Y</td>\n",
              "      <td>0</td>\n",
              "      <td>67500.0</td>\n",
              "      <td>135000.0</td>\n",
              "      <td>6750.0</td>\n",
              "      <td>...</td>\n",
              "      <td>0</td>\n",
              "      <td>0</td>\n",
              "      <td>0</td>\n",
              "      <td>0</td>\n",
              "      <td>0.0</td>\n",
              "      <td>0.0</td>\n",
              "      <td>0.0</td>\n",
              "      <td>0.0</td>\n",
              "      <td>0.0</td>\n",
              "      <td>0.0</td>\n",
              "    </tr>\n",
              "    <tr>\n",
              "      <th>3</th>\n",
              "      <td>100006</td>\n",
              "      <td>0</td>\n",
              "      <td>Cash loans</td>\n",
              "      <td>F</td>\n",
              "      <td>N</td>\n",
              "      <td>Y</td>\n",
              "      <td>0</td>\n",
              "      <td>135000.0</td>\n",
              "      <td>312682.5</td>\n",
              "      <td>29686.5</td>\n",
              "      <td>...</td>\n",
              "      <td>0</td>\n",
              "      <td>0</td>\n",
              "      <td>0</td>\n",
              "      <td>0</td>\n",
              "      <td>NaN</td>\n",
              "      <td>NaN</td>\n",
              "      <td>NaN</td>\n",
              "      <td>NaN</td>\n",
              "      <td>NaN</td>\n",
              "      <td>NaN</td>\n",
              "    </tr>\n",
              "    <tr>\n",
              "      <th>4</th>\n",
              "      <td>100007</td>\n",
              "      <td>0</td>\n",
              "      <td>Cash loans</td>\n",
              "      <td>M</td>\n",
              "      <td>N</td>\n",
              "      <td>Y</td>\n",
              "      <td>0</td>\n",
              "      <td>121500.0</td>\n",
              "      <td>513000.0</td>\n",
              "      <td>21865.5</td>\n",
              "      <td>...</td>\n",
              "      <td>0</td>\n",
              "      <td>0</td>\n",
              "      <td>0</td>\n",
              "      <td>0</td>\n",
              "      <td>0.0</td>\n",
              "      <td>0.0</td>\n",
              "      <td>0.0</td>\n",
              "      <td>0.0</td>\n",
              "      <td>0.0</td>\n",
              "      <td>0.0</td>\n",
              "    </tr>\n",
              "  </tbody>\n",
              "</table>\n",
              "<p>5 rows × 122 columns</p>\n",
              "</div>"
            ],
            "text/plain": [
              "   SK_ID_CURR  TARGET NAME_CONTRACT_TYPE CODE_GENDER FLAG_OWN_CAR  \\\n",
              "0      100002       1         Cash loans           M            N   \n",
              "1      100003       0         Cash loans           F            N   \n",
              "2      100004       0    Revolving loans           M            Y   \n",
              "3      100006       0         Cash loans           F            N   \n",
              "4      100007       0         Cash loans           M            N   \n",
              "\n",
              "  FLAG_OWN_REALTY  CNT_CHILDREN  AMT_INCOME_TOTAL  AMT_CREDIT  AMT_ANNUITY  \\\n",
              "0               Y             0          202500.0    406597.5      24700.5   \n",
              "1               N             0          270000.0   1293502.5      35698.5   \n",
              "2               Y             0           67500.0    135000.0       6750.0   \n",
              "3               Y             0          135000.0    312682.5      29686.5   \n",
              "4               Y             0          121500.0    513000.0      21865.5   \n",
              "\n",
              "              ...              FLAG_DOCUMENT_18 FLAG_DOCUMENT_19  \\\n",
              "0             ...                             0                0   \n",
              "1             ...                             0                0   \n",
              "2             ...                             0                0   \n",
              "3             ...                             0                0   \n",
              "4             ...                             0                0   \n",
              "\n",
              "  FLAG_DOCUMENT_20 FLAG_DOCUMENT_21 AMT_REQ_CREDIT_BUREAU_HOUR  \\\n",
              "0                0                0                        0.0   \n",
              "1                0                0                        0.0   \n",
              "2                0                0                        0.0   \n",
              "3                0                0                        NaN   \n",
              "4                0                0                        0.0   \n",
              "\n",
              "  AMT_REQ_CREDIT_BUREAU_DAY  AMT_REQ_CREDIT_BUREAU_WEEK  \\\n",
              "0                       0.0                         0.0   \n",
              "1                       0.0                         0.0   \n",
              "2                       0.0                         0.0   \n",
              "3                       NaN                         NaN   \n",
              "4                       0.0                         0.0   \n",
              "\n",
              "   AMT_REQ_CREDIT_BUREAU_MON  AMT_REQ_CREDIT_BUREAU_QRT  \\\n",
              "0                        0.0                        0.0   \n",
              "1                        0.0                        0.0   \n",
              "2                        0.0                        0.0   \n",
              "3                        NaN                        NaN   \n",
              "4                        0.0                        0.0   \n",
              "\n",
              "   AMT_REQ_CREDIT_BUREAU_YEAR  \n",
              "0                         1.0  \n",
              "1                         0.0  \n",
              "2                         0.0  \n",
              "3                         NaN  \n",
              "4                         0.0  \n",
              "\n",
              "[5 rows x 122 columns]"
            ]
          },
          "metadata": {
            "tags": []
          },
          "execution_count": 5
        }
      ]
    },
    {
      "metadata": {
        "id": "4GTYkFG0dTa8",
        "colab_type": "code",
        "colab": {
          "base_uri": "https://localhost:8080/",
          "height": 253
        },
        "outputId": "7be524a4-b205-46e5-842c-f370d8e9c0a2"
      },
      "cell_type": "code",
      "source": [
        "df_test.head()"
      ],
      "execution_count": 6,
      "outputs": [
        {
          "output_type": "execute_result",
          "data": {
            "text/html": [
              "<div>\n",
              "<style scoped>\n",
              "    .dataframe tbody tr th:only-of-type {\n",
              "        vertical-align: middle;\n",
              "    }\n",
              "\n",
              "    .dataframe tbody tr th {\n",
              "        vertical-align: top;\n",
              "    }\n",
              "\n",
              "    .dataframe thead th {\n",
              "        text-align: right;\n",
              "    }\n",
              "</style>\n",
              "<table border=\"1\" class=\"dataframe\">\n",
              "  <thead>\n",
              "    <tr style=\"text-align: right;\">\n",
              "      <th></th>\n",
              "      <th>SK_ID_CURR</th>\n",
              "      <th>NAME_CONTRACT_TYPE</th>\n",
              "      <th>CODE_GENDER</th>\n",
              "      <th>FLAG_OWN_CAR</th>\n",
              "      <th>FLAG_OWN_REALTY</th>\n",
              "      <th>CNT_CHILDREN</th>\n",
              "      <th>AMT_INCOME_TOTAL</th>\n",
              "      <th>AMT_CREDIT</th>\n",
              "      <th>AMT_ANNUITY</th>\n",
              "      <th>AMT_GOODS_PRICE</th>\n",
              "      <th>...</th>\n",
              "      <th>FLAG_DOCUMENT_18</th>\n",
              "      <th>FLAG_DOCUMENT_19</th>\n",
              "      <th>FLAG_DOCUMENT_20</th>\n",
              "      <th>FLAG_DOCUMENT_21</th>\n",
              "      <th>AMT_REQ_CREDIT_BUREAU_HOUR</th>\n",
              "      <th>AMT_REQ_CREDIT_BUREAU_DAY</th>\n",
              "      <th>AMT_REQ_CREDIT_BUREAU_WEEK</th>\n",
              "      <th>AMT_REQ_CREDIT_BUREAU_MON</th>\n",
              "      <th>AMT_REQ_CREDIT_BUREAU_QRT</th>\n",
              "      <th>AMT_REQ_CREDIT_BUREAU_YEAR</th>\n",
              "    </tr>\n",
              "  </thead>\n",
              "  <tbody>\n",
              "    <tr>\n",
              "      <th>0</th>\n",
              "      <td>100001</td>\n",
              "      <td>Cash loans</td>\n",
              "      <td>F</td>\n",
              "      <td>N</td>\n",
              "      <td>Y</td>\n",
              "      <td>0</td>\n",
              "      <td>135000.0</td>\n",
              "      <td>568800.0</td>\n",
              "      <td>20560.5</td>\n",
              "      <td>450000.0</td>\n",
              "      <td>...</td>\n",
              "      <td>0</td>\n",
              "      <td>0</td>\n",
              "      <td>0</td>\n",
              "      <td>0</td>\n",
              "      <td>0.0</td>\n",
              "      <td>0.0</td>\n",
              "      <td>0.0</td>\n",
              "      <td>0.0</td>\n",
              "      <td>0.0</td>\n",
              "      <td>0.0</td>\n",
              "    </tr>\n",
              "    <tr>\n",
              "      <th>1</th>\n",
              "      <td>100005</td>\n",
              "      <td>Cash loans</td>\n",
              "      <td>M</td>\n",
              "      <td>N</td>\n",
              "      <td>Y</td>\n",
              "      <td>0</td>\n",
              "      <td>99000.0</td>\n",
              "      <td>222768.0</td>\n",
              "      <td>17370.0</td>\n",
              "      <td>180000.0</td>\n",
              "      <td>...</td>\n",
              "      <td>0</td>\n",
              "      <td>0</td>\n",
              "      <td>0</td>\n",
              "      <td>0</td>\n",
              "      <td>0.0</td>\n",
              "      <td>0.0</td>\n",
              "      <td>0.0</td>\n",
              "      <td>0.0</td>\n",
              "      <td>0.0</td>\n",
              "      <td>3.0</td>\n",
              "    </tr>\n",
              "    <tr>\n",
              "      <th>2</th>\n",
              "      <td>100013</td>\n",
              "      <td>Cash loans</td>\n",
              "      <td>M</td>\n",
              "      <td>Y</td>\n",
              "      <td>Y</td>\n",
              "      <td>0</td>\n",
              "      <td>202500.0</td>\n",
              "      <td>663264.0</td>\n",
              "      <td>69777.0</td>\n",
              "      <td>630000.0</td>\n",
              "      <td>...</td>\n",
              "      <td>0</td>\n",
              "      <td>0</td>\n",
              "      <td>0</td>\n",
              "      <td>0</td>\n",
              "      <td>0.0</td>\n",
              "      <td>0.0</td>\n",
              "      <td>0.0</td>\n",
              "      <td>0.0</td>\n",
              "      <td>1.0</td>\n",
              "      <td>4.0</td>\n",
              "    </tr>\n",
              "    <tr>\n",
              "      <th>3</th>\n",
              "      <td>100028</td>\n",
              "      <td>Cash loans</td>\n",
              "      <td>F</td>\n",
              "      <td>N</td>\n",
              "      <td>Y</td>\n",
              "      <td>2</td>\n",
              "      <td>315000.0</td>\n",
              "      <td>1575000.0</td>\n",
              "      <td>49018.5</td>\n",
              "      <td>1575000.0</td>\n",
              "      <td>...</td>\n",
              "      <td>0</td>\n",
              "      <td>0</td>\n",
              "      <td>0</td>\n",
              "      <td>0</td>\n",
              "      <td>0.0</td>\n",
              "      <td>0.0</td>\n",
              "      <td>0.0</td>\n",
              "      <td>0.0</td>\n",
              "      <td>0.0</td>\n",
              "      <td>3.0</td>\n",
              "    </tr>\n",
              "    <tr>\n",
              "      <th>4</th>\n",
              "      <td>100038</td>\n",
              "      <td>Cash loans</td>\n",
              "      <td>M</td>\n",
              "      <td>Y</td>\n",
              "      <td>N</td>\n",
              "      <td>1</td>\n",
              "      <td>180000.0</td>\n",
              "      <td>625500.0</td>\n",
              "      <td>32067.0</td>\n",
              "      <td>625500.0</td>\n",
              "      <td>...</td>\n",
              "      <td>0</td>\n",
              "      <td>0</td>\n",
              "      <td>0</td>\n",
              "      <td>0</td>\n",
              "      <td>NaN</td>\n",
              "      <td>NaN</td>\n",
              "      <td>NaN</td>\n",
              "      <td>NaN</td>\n",
              "      <td>NaN</td>\n",
              "      <td>NaN</td>\n",
              "    </tr>\n",
              "  </tbody>\n",
              "</table>\n",
              "<p>5 rows × 121 columns</p>\n",
              "</div>"
            ],
            "text/plain": [
              "   SK_ID_CURR NAME_CONTRACT_TYPE CODE_GENDER FLAG_OWN_CAR FLAG_OWN_REALTY  \\\n",
              "0      100001         Cash loans           F            N               Y   \n",
              "1      100005         Cash loans           M            N               Y   \n",
              "2      100013         Cash loans           M            Y               Y   \n",
              "3      100028         Cash loans           F            N               Y   \n",
              "4      100038         Cash loans           M            Y               N   \n",
              "\n",
              "   CNT_CHILDREN  AMT_INCOME_TOTAL  AMT_CREDIT  AMT_ANNUITY  AMT_GOODS_PRICE  \\\n",
              "0             0          135000.0    568800.0      20560.5         450000.0   \n",
              "1             0           99000.0    222768.0      17370.0         180000.0   \n",
              "2             0          202500.0    663264.0      69777.0         630000.0   \n",
              "3             2          315000.0   1575000.0      49018.5        1575000.0   \n",
              "4             1          180000.0    625500.0      32067.0         625500.0   \n",
              "\n",
              "              ...             FLAG_DOCUMENT_18 FLAG_DOCUMENT_19  \\\n",
              "0             ...                            0                0   \n",
              "1             ...                            0                0   \n",
              "2             ...                            0                0   \n",
              "3             ...                            0                0   \n",
              "4             ...                            0                0   \n",
              "\n",
              "  FLAG_DOCUMENT_20 FLAG_DOCUMENT_21 AMT_REQ_CREDIT_BUREAU_HOUR  \\\n",
              "0                0                0                        0.0   \n",
              "1                0                0                        0.0   \n",
              "2                0                0                        0.0   \n",
              "3                0                0                        0.0   \n",
              "4                0                0                        NaN   \n",
              "\n",
              "   AMT_REQ_CREDIT_BUREAU_DAY  AMT_REQ_CREDIT_BUREAU_WEEK  \\\n",
              "0                        0.0                         0.0   \n",
              "1                        0.0                         0.0   \n",
              "2                        0.0                         0.0   \n",
              "3                        0.0                         0.0   \n",
              "4                        NaN                         NaN   \n",
              "\n",
              "   AMT_REQ_CREDIT_BUREAU_MON  AMT_REQ_CREDIT_BUREAU_QRT  \\\n",
              "0                        0.0                        0.0   \n",
              "1                        0.0                        0.0   \n",
              "2                        0.0                        1.0   \n",
              "3                        0.0                        0.0   \n",
              "4                        NaN                        NaN   \n",
              "\n",
              "   AMT_REQ_CREDIT_BUREAU_YEAR  \n",
              "0                         0.0  \n",
              "1                         3.0  \n",
              "2                         4.0  \n",
              "3                         3.0  \n",
              "4                         NaN  \n",
              "\n",
              "[5 rows x 121 columns]"
            ]
          },
          "metadata": {
            "tags": []
          },
          "execution_count": 6
        }
      ]
    },
    {
      "metadata": {
        "id": "v_okhAmBdTdk",
        "colab_type": "code",
        "colab": {
          "base_uri": "https://localhost:8080/",
          "height": 34
        },
        "outputId": "2f82a0fa-99f8-4a23-a81e-f917acbdf711"
      },
      "cell_type": "code",
      "source": [
        "# How many classes\n",
        "df[\"TARGET\"].nunique()"
      ],
      "execution_count": 7,
      "outputs": [
        {
          "output_type": "execute_result",
          "data": {
            "text/plain": [
              "2"
            ]
          },
          "metadata": {
            "tags": []
          },
          "execution_count": 7
        }
      ]
    },
    {
      "metadata": {
        "id": "PWf0nm2CmF6D",
        "colab_type": "code",
        "colab": {
          "base_uri": "https://localhost:8080/",
          "height": 68
        },
        "outputId": "564d7c19-267e-40e4-ccff-dee437aba732"
      },
      "cell_type": "code",
      "source": [
        "# Distribution of those classes\n",
        "df[\"TARGET\"].value_counts(dropna=False)"
      ],
      "execution_count": 8,
      "outputs": [
        {
          "output_type": "execute_result",
          "data": {
            "text/plain": [
              "0    282686\n",
              "1     24825\n",
              "Name: TARGET, dtype: int64"
            ]
          },
          "metadata": {
            "tags": []
          },
          "execution_count": 8
        }
      ]
    },
    {
      "metadata": {
        "id": "qWYfKj2kmGeX",
        "colab_type": "code",
        "colab": {
          "base_uri": "https://localhost:8080/",
          "height": 34
        },
        "outputId": "cb2b74fc-5f4b-4a61-e6f7-b1b52d0e2de0"
      },
      "cell_type": "code",
      "source": [
        "dtypes = df.dtypes\n",
        "dtypes = dtypes[dtypes!='object']\n",
        "features = list(set(dtypes.index)-set(['TARGET']))\n",
        "len(features)"
      ],
      "execution_count": 9,
      "outputs": [
        {
          "output_type": "execute_result",
          "data": {
            "text/plain": [
              "105"
            ]
          },
          "metadata": {
            "tags": []
          },
          "execution_count": 9
        }
      ]
    },
    {
      "metadata": {
        "id": "u5kJwVtwmGg3",
        "colab_type": "code",
        "colab": {}
      },
      "cell_type": "code",
      "source": [
        "X = df[features]\n",
        "y = df['TARGET']\n"
      ],
      "execution_count": 0,
      "outputs": []
    },
    {
      "metadata": {
        "id": "hWlrjINlmJq-",
        "colab_type": "code",
        "colab": {}
      },
      "cell_type": "code",
      "source": [
        "\n",
        "from sklearn.model_selection import train_test_split\n",
        "X_train, X_test, y_train, y_test = train_test_split(X, y, test_size=0.2, random_state=42)"
      ],
      "execution_count": 0,
      "outputs": []
    },
    {
      "metadata": {
        "id": "DwBxN4simJtC",
        "colab_type": "code",
        "colab": {
          "base_uri": "https://localhost:8080/",
          "height": 136
        },
        "outputId": "ff71b356-6517-412e-a03b-8808efb70bca"
      },
      "cell_type": "code",
      "source": [
        "model = XGBClassifier(max_depth=6, learning_rate=0.1,n_estimators=100,\n",
        "                      n_jobs=16,scale_pos_weight=4,missing=np.nan,gamma=16,\n",
        "                      eval_metric=\"auc\",reg_lambda=40,reg_alpha=40)\n",
        "model.fit(X_train,y_train)"
      ],
      "execution_count": 12,
      "outputs": [
        {
          "output_type": "execute_result",
          "data": {
            "text/plain": [
              "XGBClassifier(base_score=0.5, booster='gbtree', colsample_bylevel=1,\n",
              "       colsample_bytree=1, eval_metric='auc', gamma=16, learning_rate=0.1,\n",
              "       max_delta_step=0, max_depth=6, min_child_weight=1, missing=None,\n",
              "       n_estimators=100, n_jobs=16, nthread=None,\n",
              "       objective='binary:logistic', random_state=0, reg_alpha=40,\n",
              "       reg_lambda=40, scale_pos_weight=4, seed=None, silent=True,\n",
              "       subsample=1)"
            ]
          },
          "metadata": {
            "tags": []
          },
          "execution_count": 12
        }
      ]
    },
    {
      "metadata": {
        "id": "-q6YOoltmLHg",
        "colab_type": "code",
        "colab": {
          "base_uri": "https://localhost:8080/",
          "height": 51
        },
        "outputId": "dfb0b8cb-1d8d-4137-c3d9-01d3ffb46432"
      },
      "cell_type": "code",
      "source": [
        "from sklearn.metrics import roc_auc_score\n",
        "\n",
        "y_train_predicted = model.predict_proba(X_train)[:,1]\n",
        "y_test_predicted = model.predict_proba(X_test)[:,1]\n",
        "\n",
        "print(\"Train AUC %.4f\"%roc_auc_score(y_train,y_train_predicted))\n",
        "print(\"Test AUC %.4f\"%roc_auc_score(y_test,y_test_predicted))"
      ],
      "execution_count": 13,
      "outputs": [
        {
          "output_type": "stream",
          "text": [
            "Train AUC 0.7746\n",
            "Test AUC 0.7540\n"
          ],
          "name": "stdout"
        }
      ]
    },
    {
      "metadata": {
        "id": "-q9PMiDqmNsm",
        "colab_type": "code",
        "colab": {
          "base_uri": "https://localhost:8080/",
          "height": 1207
        },
        "outputId": "da767eb4-7d7f-470e-b3ba-45ff09f5bf9f"
      },
      "cell_type": "code",
      "source": [
        "def generate_results(model,df_test,features,id_col,target,file):\n",
        "    dft = df_test[features]\n",
        "    results = df_test[[id_col]]\n",
        "    results[target] = model.predict_proba(dft)[:,1]\n",
        "    print(results)\n",
        "    #results.to_csv(file,index=False,columns=results.columns)\n",
        "    df1=pd.DataFrame(results)\n",
        "    df1.to_csv('test.csv',header=False,index=False)\n",
        "    \n",
        "generate_results(model,df_test,features,\"SK_ID_CURR\",\"TARGET\",\"\")"
      ],
      "execution_count": 16,
      "outputs": [
        {
          "output_type": "stream",
          "text": [
            "       SK_ID_CURR    TARGET\n",
            "0          100001  0.164325\n",
            "1          100005  0.266943\n",
            "2          100013  0.074950\n",
            "3          100028  0.108938\n",
            "4          100038  0.451870\n",
            "5          100042  0.129949\n",
            "6          100057  0.078146\n",
            "7          100065  0.131427\n",
            "8          100066  0.072744\n",
            "9          100067  0.314994\n",
            "10         100074  0.236247\n",
            "11         100090  0.188630\n",
            "12         100091  0.447999\n",
            "13         100092  0.310571\n",
            "14         100106  0.172357\n",
            "15         100107  0.338649\n",
            "16         100109  0.242107\n",
            "17         100117  0.105581\n",
            "18         100128  0.321854\n",
            "19         100141  0.116842\n",
            "20         100150  0.060589\n",
            "21         100168  0.061835\n",
            "22         100169  0.162125\n",
            "23         100170  0.204892\n",
            "24         100171  0.171590\n",
            "25         100172  0.287744\n",
            "26         100184  0.200637\n",
            "27         100187  0.245937\n",
            "28         100212  0.238927\n",
            "29         100222  0.207635\n",
            "...           ...       ...\n",
            "48714      455963  0.120585\n",
            "48715      455965  0.076572\n",
            "48716      456007  0.461280\n",
            "48717      456008  0.080278\n",
            "48718      456009  0.173112\n",
            "48719      456010  0.156632\n",
            "48720      456011  0.137550\n",
            "48721      456013  0.348714\n",
            "48722      456028  0.387000\n",
            "48723      456058  0.381417\n",
            "48724      456111  0.364107\n",
            "48725      456114  0.231285\n",
            "48726      456115  0.189948\n",
            "48727      456116  0.077883\n",
            "48728      456119  0.091315\n",
            "48729      456120  0.267948\n",
            "48730      456122  0.294294\n",
            "48731      456123  0.157702\n",
            "48732      456166  0.452318\n",
            "48733      456167  0.144882\n",
            "48734      456168  0.207667\n",
            "48735      456169  0.166861\n",
            "48736      456170  0.094308\n",
            "48737      456189  0.356487\n",
            "48738      456202  0.505632\n",
            "48739      456221  0.106357\n",
            "48740      456222  0.273706\n",
            "48741      456223  0.119842\n",
            "48742      456224  0.250226\n",
            "48743      456250  0.532546\n",
            "\n",
            "[48744 rows x 2 columns]\n"
          ],
          "name": "stdout"
        },
        {
          "output_type": "stream",
          "text": [
            "/usr/local/lib/python3.6/dist-packages/ipykernel_launcher.py:4: SettingWithCopyWarning: \n",
            "A value is trying to be set on a copy of a slice from a DataFrame.\n",
            "Try using .loc[row_indexer,col_indexer] = value instead\n",
            "\n",
            "See the caveats in the documentation: http://pandas.pydata.org/pandas-docs/stable/indexing.html#indexing-view-versus-copy\n",
            "  after removing the cwd from sys.path.\n"
          ],
          "name": "stderr"
        }
      ]
    },
    {
      "metadata": {
        "id": "DunOZbM_rA7Y",
        "colab_type": "code",
        "colab": {
          "base_uri": "https://localhost:8080/",
          "height": 180
        },
        "outputId": "bdadfd75-ac14-4abd-e538-d106e4813e06"
      },
      "cell_type": "code",
      "source": [
        ""
      ],
      "execution_count": 33,
      "outputs": [
        {
          "output_type": "error",
          "ename": "NameError",
          "evalue": "ignored",
          "traceback": [
            "\u001b[0;31m---------------------------------------------------------------------------\u001b[0m",
            "\u001b[0;31mNameError\u001b[0m                                 Traceback (most recent call last)",
            "\u001b[0;32m<ipython-input-33-6647ceed4c4d>\u001b[0m in \u001b[0;36m<module>\u001b[0;34m()\u001b[0m\n\u001b[0;32m----> 1\u001b[0;31m \u001b[0mdf\u001b[0m\u001b[0;34m=\u001b[0m\u001b[0mpd\u001b[0m\u001b[0;34m.\u001b[0m\u001b[0mDataFrame\u001b[0m\u001b[0;34m(\u001b[0m\u001b[0mresult\u001b[0m\u001b[0;34m)\u001b[0m\u001b[0;34m\u001b[0m\u001b[0m\n\u001b[0m\u001b[1;32m      2\u001b[0m \u001b[0mdf\u001b[0m\u001b[0;34m.\u001b[0m\u001b[0mto_csv\u001b[0m\u001b[0;34m(\u001b[0m\u001b[0;34m'test.csv'\u001b[0m\u001b[0;34m,\u001b[0m\u001b[0mheader\u001b[0m\u001b[0;34m=\u001b[0m\u001b[0;32mFalse\u001b[0m\u001b[0;34m,\u001b[0m\u001b[0mindex\u001b[0m\u001b[0;34m=\u001b[0m\u001b[0;32mFalse\u001b[0m\u001b[0;34m)\u001b[0m\u001b[0;34m\u001b[0m\u001b[0m\n",
            "\u001b[0;31mNameError\u001b[0m: name 'result' is not defined"
          ]
        }
      ]
    }
  ]
}